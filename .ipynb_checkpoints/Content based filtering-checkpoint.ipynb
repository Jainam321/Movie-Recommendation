{
 "cells": [
  {
   "cell_type": "markdown",
   "id": "cf784133",
   "metadata": {},
   "source": [
    "# Importing Libraries and reading the dataset"
   ]
  },
  {
   "cell_type": "code",
   "execution_count": 1,
   "id": "c529da90",
   "metadata": {},
   "outputs": [],
   "source": [
    "import pandas as pd"
   ]
  },
  {
   "cell_type": "markdown",
   "id": "bfc7d88a",
   "metadata": {},
   "source": [
    "## 1. MovieLens dataset"
   ]
  },
  {
   "cell_type": "code",
   "execution_count": 2,
   "id": "3b3c1063",
   "metadata": {},
   "outputs": [
    {
     "data": {
      "text/html": [
       "<div>\n",
       "<style scoped>\n",
       "    .dataframe tbody tr th:only-of-type {\n",
       "        vertical-align: middle;\n",
       "    }\n",
       "\n",
       "    .dataframe tbody tr th {\n",
       "        vertical-align: top;\n",
       "    }\n",
       "\n",
       "    .dataframe thead th {\n",
       "        text-align: right;\n",
       "    }\n",
       "</style>\n",
       "<table border=\"1\" class=\"dataframe\">\n",
       "  <thead>\n",
       "    <tr style=\"text-align: right;\">\n",
       "      <th></th>\n",
       "      <th>userId</th>\n",
       "      <th>movieId</th>\n",
       "      <th>rating</th>\n",
       "      <th>title</th>\n",
       "      <th>genres</th>\n",
       "    </tr>\n",
       "  </thead>\n",
       "  <tbody>\n",
       "    <tr>\n",
       "      <th>0</th>\n",
       "      <td>1</td>\n",
       "      <td>16</td>\n",
       "      <td>4.0</td>\n",
       "      <td>Casino (1995)</td>\n",
       "      <td>Crime|Drama</td>\n",
       "    </tr>\n",
       "    <tr>\n",
       "      <th>1</th>\n",
       "      <td>1</td>\n",
       "      <td>4993</td>\n",
       "      <td>4.5</td>\n",
       "      <td>Lord of the Rings: The Fellowship of the Ring,...</td>\n",
       "      <td>Adventure|Fantasy</td>\n",
       "    </tr>\n",
       "    <tr>\n",
       "      <th>2</th>\n",
       "      <td>1</td>\n",
       "      <td>4963</td>\n",
       "      <td>3.5</td>\n",
       "      <td>Ocean's Eleven (2001)</td>\n",
       "      <td>Crime|Thriller</td>\n",
       "    </tr>\n",
       "    <tr>\n",
       "      <th>3</th>\n",
       "      <td>1</td>\n",
       "      <td>4306</td>\n",
       "      <td>4.0</td>\n",
       "      <td>Shrek (2001)</td>\n",
       "      <td>Adventure|Animation|Children|Comedy|Fantasy|Ro...</td>\n",
       "    </tr>\n",
       "    <tr>\n",
       "      <th>4</th>\n",
       "      <td>1</td>\n",
       "      <td>4262</td>\n",
       "      <td>5.0</td>\n",
       "      <td>Scarface (1983)</td>\n",
       "      <td>Action|Crime|Drama</td>\n",
       "    </tr>\n",
       "  </tbody>\n",
       "</table>\n",
       "</div>"
      ],
      "text/plain": [
       "   userId  movieId  rating                                              title  \\\n",
       "0       1       16     4.0                                      Casino (1995)   \n",
       "1       1     4993     4.5  Lord of the Rings: The Fellowship of the Ring,...   \n",
       "2       1     4963     3.5                              Ocean's Eleven (2001)   \n",
       "3       1     4306     4.0                                       Shrek (2001)   \n",
       "4       1     4262     5.0                                    Scarface (1983)   \n",
       "\n",
       "                                              genres  \n",
       "0                                        Crime|Drama  \n",
       "1                                  Adventure|Fantasy  \n",
       "2                                     Crime|Thriller  \n",
       "3  Adventure|Animation|Children|Comedy|Fantasy|Ro...  \n",
       "4                                 Action|Crime|Drama  "
      ]
     },
     "execution_count": 2,
     "metadata": {},
     "output_type": "execute_result"
    }
   ],
   "source": [
    "df = pd.read_csv('merged_data.csv')\n",
    "df.head()"
   ]
  },
  {
   "cell_type": "markdown",
   "id": "067484f0",
   "metadata": {},
   "source": [
    "## 2. Movies dataset"
   ]
  },
  {
   "cell_type": "code",
   "execution_count": 3,
   "id": "962a8d66",
   "metadata": {},
   "outputs": [
    {
     "data": {
      "text/html": [
       "<div>\n",
       "<style scoped>\n",
       "    .dataframe tbody tr th:only-of-type {\n",
       "        vertical-align: middle;\n",
       "    }\n",
       "\n",
       "    .dataframe tbody tr th {\n",
       "        vertical-align: top;\n",
       "    }\n",
       "\n",
       "    .dataframe thead th {\n",
       "        text-align: right;\n",
       "    }\n",
       "</style>\n",
       "<table border=\"1\" class=\"dataframe\">\n",
       "  <thead>\n",
       "    <tr style=\"text-align: right;\">\n",
       "      <th></th>\n",
       "      <th>movieId</th>\n",
       "      <th>title</th>\n",
       "      <th>genres</th>\n",
       "    </tr>\n",
       "  </thead>\n",
       "  <tbody>\n",
       "    <tr>\n",
       "      <th>0</th>\n",
       "      <td>1</td>\n",
       "      <td>Toy Story (1995)</td>\n",
       "      <td>Adventure|Animation|Children|Comedy|Fantasy</td>\n",
       "    </tr>\n",
       "    <tr>\n",
       "      <th>1</th>\n",
       "      <td>2</td>\n",
       "      <td>Jumanji (1995)</td>\n",
       "      <td>Adventure|Children|Fantasy</td>\n",
       "    </tr>\n",
       "    <tr>\n",
       "      <th>2</th>\n",
       "      <td>3</td>\n",
       "      <td>Grumpier Old Men (1995)</td>\n",
       "      <td>Comedy|Romance</td>\n",
       "    </tr>\n",
       "    <tr>\n",
       "      <th>3</th>\n",
       "      <td>4</td>\n",
       "      <td>Waiting to Exhale (1995)</td>\n",
       "      <td>Comedy|Drama|Romance</td>\n",
       "    </tr>\n",
       "    <tr>\n",
       "      <th>4</th>\n",
       "      <td>5</td>\n",
       "      <td>Father of the Bride Part II (1995)</td>\n",
       "      <td>Comedy</td>\n",
       "    </tr>\n",
       "  </tbody>\n",
       "</table>\n",
       "</div>"
      ],
      "text/plain": [
       "   movieId                               title  \\\n",
       "0        1                    Toy Story (1995)   \n",
       "1        2                      Jumanji (1995)   \n",
       "2        3             Grumpier Old Men (1995)   \n",
       "3        4            Waiting to Exhale (1995)   \n",
       "4        5  Father of the Bride Part II (1995)   \n",
       "\n",
       "                                        genres  \n",
       "0  Adventure|Animation|Children|Comedy|Fantasy  \n",
       "1                   Adventure|Children|Fantasy  \n",
       "2                               Comedy|Romance  \n",
       "3                         Comedy|Drama|Romance  \n",
       "4                                       Comedy  "
      ]
     },
     "execution_count": 3,
     "metadata": {},
     "output_type": "execute_result"
    }
   ],
   "source": [
    "df2 = pd.read_csv('movies.csv')\n",
    "df2.head()"
   ]
  },
  {
   "cell_type": "code",
   "execution_count": null,
   "id": "5e34bbb0",
   "metadata": {},
   "outputs": [],
   "source": []
  },
  {
   "cell_type": "markdown",
   "id": "022d6402",
   "metadata": {},
   "source": [
    "# Displaying the details about the dataframe"
   ]
  },
  {
   "cell_type": "markdown",
   "id": "fcd65139",
   "metadata": {},
   "source": [
    "## 1. MovieLens dataset"
   ]
  },
  {
   "cell_type": "code",
   "execution_count": 4,
   "id": "fac6f829",
   "metadata": {},
   "outputs": [
    {
     "data": {
      "text/plain": [
       "(105339, 5)"
      ]
     },
     "execution_count": 4,
     "metadata": {},
     "output_type": "execute_result"
    }
   ],
   "source": [
    "df.shape"
   ]
  },
  {
   "cell_type": "code",
   "execution_count": 5,
   "id": "80843b5d",
   "metadata": {},
   "outputs": [
    {
     "name": "stdout",
     "output_type": "stream",
     "text": [
      "<class 'pandas.core.frame.DataFrame'>\n",
      "RangeIndex: 105339 entries, 0 to 105338\n",
      "Data columns (total 5 columns):\n",
      " #   Column   Non-Null Count   Dtype  \n",
      "---  ------   --------------   -----  \n",
      " 0   userId   105339 non-null  int64  \n",
      " 1   movieId  105339 non-null  int64  \n",
      " 2   rating   105339 non-null  float64\n",
      " 3   title    105339 non-null  object \n",
      " 4   genres   105339 non-null  object \n",
      "dtypes: float64(1), int64(2), object(2)\n",
      "memory usage: 4.0+ MB\n"
     ]
    }
   ],
   "source": [
    "df.info()"
   ]
  },
  {
   "cell_type": "markdown",
   "id": "9b7a2494",
   "metadata": {},
   "source": [
    "## 2. Movies dataset"
   ]
  },
  {
   "cell_type": "code",
   "execution_count": 6,
   "id": "ad79dc2f",
   "metadata": {},
   "outputs": [
    {
     "data": {
      "text/plain": [
       "(10329, 3)"
      ]
     },
     "execution_count": 6,
     "metadata": {},
     "output_type": "execute_result"
    }
   ],
   "source": [
    "df2.shape"
   ]
  },
  {
   "cell_type": "code",
   "execution_count": 7,
   "id": "b257ce1c",
   "metadata": {},
   "outputs": [
    {
     "name": "stdout",
     "output_type": "stream",
     "text": [
      "<class 'pandas.core.frame.DataFrame'>\n",
      "RangeIndex: 10329 entries, 0 to 10328\n",
      "Data columns (total 3 columns):\n",
      " #   Column   Non-Null Count  Dtype \n",
      "---  ------   --------------  ----- \n",
      " 0   movieId  10329 non-null  int64 \n",
      " 1   title    10329 non-null  object\n",
      " 2   genres   10329 non-null  object\n",
      "dtypes: int64(1), object(2)\n",
      "memory usage: 242.2+ KB\n"
     ]
    }
   ],
   "source": [
    "df2.info()"
   ]
  },
  {
   "cell_type": "code",
   "execution_count": null,
   "id": "249b5325",
   "metadata": {},
   "outputs": [],
   "source": []
  },
  {
   "cell_type": "markdown",
   "id": "f3f4f5b6",
   "metadata": {},
   "source": [
    "## Total unique users"
   ]
  },
  {
   "cell_type": "code",
   "execution_count": 8,
   "id": "6ed47aa1",
   "metadata": {},
   "outputs": [
    {
     "name": "stdout",
     "output_type": "stream",
     "text": [
      "Total unique users:  668\n"
     ]
    }
   ],
   "source": [
    "print(\"Total unique users: \",len(df['userId'].unique()))"
   ]
  },
  {
   "cell_type": "markdown",
   "id": "94d84b18",
   "metadata": {},
   "source": [
    "## Total unique movies"
   ]
  },
  {
   "cell_type": "code",
   "execution_count": 9,
   "id": "03fa816a",
   "metadata": {},
   "outputs": [
    {
     "name": "stdout",
     "output_type": "stream",
     "text": [
      "Total unique users:  10325\n"
     ]
    }
   ],
   "source": [
    "print(\"Total unique users: \",len(df['movieId'].unique()))"
   ]
  },
  {
   "cell_type": "markdown",
   "id": "1fe3583c",
   "metadata": {},
   "source": [
    "## Total unique genres"
   ]
  },
  {
   "cell_type": "code",
   "execution_count": 10,
   "id": "51e61c2b",
   "metadata": {},
   "outputs": [],
   "source": [
    "genres = []\n",
    "for genre in df.genres:\n",
    "    x = genre.split('|')\n",
    "    for i in x:\n",
    "        if(i not in genres):\n",
    "            genres.append(str(i))"
   ]
  },
  {
   "cell_type": "code",
   "execution_count": 11,
   "id": "4e0a9cdc",
   "metadata": {},
   "outputs": [
    {
     "name": "stdout",
     "output_type": "stream",
     "text": [
      "All unique genres: \n",
      "\n",
      "['Crime', 'Drama', 'Adventure', 'Fantasy', 'Thriller', 'Animation', 'Children', 'Comedy', 'Romance', 'Action', 'War', 'Horror', 'Mystery', 'Sci-Fi', 'IMAX', 'Documentary', 'Film-Noir', 'Western', 'Musical', '(no genres listed)']\n"
     ]
    }
   ],
   "source": [
    "print(\"All unique genres: \\n\")\n",
    "print(genres)"
   ]
  },
  {
   "cell_type": "code",
   "execution_count": 12,
   "id": "c99187fe",
   "metadata": {},
   "outputs": [
    {
     "name": "stdout",
     "output_type": "stream",
     "text": [
      "Total unique genres:  20\n"
     ]
    }
   ],
   "source": [
    "print(\"Total unique genres: \",len(genres))"
   ]
  },
  {
   "cell_type": "code",
   "execution_count": null,
   "id": "3597d0ae",
   "metadata": {},
   "outputs": [],
   "source": []
  },
  {
   "cell_type": "markdown",
   "id": "ba9d3877",
   "metadata": {},
   "source": [
    "# Content based filering"
   ]
  },
  {
   "cell_type": "markdown",
   "id": "5ac3e980",
   "metadata": {},
   "source": [
    "## Choosing random user for recommendation"
   ]
  },
  {
   "cell_type": "code",
   "execution_count": 13,
   "id": "8cdd2404",
   "metadata": {},
   "outputs": [
    {
     "name": "stdout",
     "output_type": "stream",
     "text": [
      "User(User ID) chosen for recommendation 627\n"
     ]
    }
   ],
   "source": [
    "import random\n",
    "user = random.randint(1,668)\n",
    "print(\"User(User ID) chosen for recommendation\",user)"
   ]
  },
  {
   "cell_type": "markdown",
   "id": "c86e8f2f",
   "metadata": {},
   "source": [
    "## Getting details about user- his seen movies and highest rated movie genres"
   ]
  },
  {
   "cell_type": "code",
   "execution_count": 14,
   "id": "f5cf9d59",
   "metadata": {
    "scrolled": false
   },
   "outputs": [
    {
     "name": "stdout",
     "output_type": "stream",
     "text": [
      "Total movies seen by user: 1050\n"
     ]
    }
   ],
   "source": [
    "user1_movies = list(df['movieId'][df['userId'] == user])\n",
    "print(\"Total movies seen by user: {}\".format(len(user1_movies)))"
   ]
  },
  {
   "cell_type": "code",
   "execution_count": 15,
   "id": "9544994c",
   "metadata": {},
   "outputs": [
    {
     "name": "stdout",
     "output_type": "stream",
     "text": [
      "Maximum rating given by user:  5.0\n"
     ]
    }
   ],
   "source": [
    "max_rating = df['rating'][df['userId'] == user].max()\n",
    "print(\"Maximum rating given by user: \", max_rating)"
   ]
  },
  {
   "cell_type": "code",
   "execution_count": null,
   "id": "b530aab5",
   "metadata": {},
   "outputs": [],
   "source": []
  },
  {
   "cell_type": "markdown",
   "id": "60dd077e",
   "metadata": {},
   "source": [
    "## Getting top genres of the user's highest rated movies"
   ]
  },
  {
   "cell_type": "code",
   "execution_count": 16,
   "id": "50bd79d0",
   "metadata": {},
   "outputs": [
    {
     "name": "stdout",
     "output_type": "stream",
     "text": [
      "Genres of all highest rated movies by the user:\n",
      " ['Drama', 'Comedy', 'Crime', 'Thriller', 'Action', 'Adventure', 'Fantasy', 'Animation', 'Sci-Fi', 'Romance', 'Children', 'War', 'Mystery', 'Horror', 'Documentary']\n"
     ]
    }
   ],
   "source": [
    "l = list(df['genres'][(df['userId'] == user) & (df['rating'] == max_rating)])\n",
    "genres = {}\n",
    "for i in l:\n",
    "    split_list = i.split('|')\n",
    "    for j in split_list:\n",
    "        if j not in genres:\n",
    "            genres[j] = 1\n",
    "        else:\n",
    "            genres[j] += 1\n",
    "genres = dict(sorted(genres.items(), key=lambda item: item[1]))\n",
    "genres_list = list(genres.keys())[::-1]\n",
    "print(\"Genres of all highest rated movies by the user:\\n\",genres_list)"
   ]
  },
  {
   "cell_type": "code",
   "execution_count": 17,
   "id": "3bc6cdc9",
   "metadata": {},
   "outputs": [
    {
     "name": "stdout",
     "output_type": "stream",
     "text": [
      "Genres with their count:\n",
      "{'Documentary': 1, 'Horror': 2, 'Mystery': 3, 'War': 4, 'Children': 6, 'Romance': 7, 'Sci-Fi': 9, 'Animation': 10, 'Fantasy': 10, 'Adventure': 17, 'Action': 17, 'Thriller': 18, 'Crime': 19, 'Comedy': 23, 'Drama': 26}\n"
     ]
    }
   ],
   "source": [
    "print(\"Genres with their count:\")\n",
    "print(genres)"
   ]
  },
  {
   "cell_type": "code",
   "execution_count": 18,
   "id": "b9f0fdb4",
   "metadata": {},
   "outputs": [
    {
     "name": "stdout",
     "output_type": "stream",
     "text": [
      "Top 4 Genres: ['Drama', 'Comedy', 'Crime', 'Thriller']\n"
     ]
    }
   ],
   "source": [
    "top_genres = genres_list[:min(4,len(genres_list))]\n",
    "print(\"Top {} Genres: {}\".format(len(top_genres),top_genres))"
   ]
  },
  {
   "cell_type": "code",
   "execution_count": null,
   "id": "8a95bfe2",
   "metadata": {},
   "outputs": [],
   "source": []
  },
  {
   "cell_type": "markdown",
   "id": "719e99bb",
   "metadata": {},
   "source": [
    "# Calculating similarity of all the movies with respect to the top genres obtained "
   ]
  },
  {
   "cell_type": "markdown",
   "id": "7413a1b2",
   "metadata": {},
   "source": [
    "## Movies dataframe"
   ]
  },
  {
   "cell_type": "code",
   "execution_count": 19,
   "id": "efa76d2b",
   "metadata": {},
   "outputs": [
    {
     "data": {
      "text/html": [
       "<div>\n",
       "<style scoped>\n",
       "    .dataframe tbody tr th:only-of-type {\n",
       "        vertical-align: middle;\n",
       "    }\n",
       "\n",
       "    .dataframe tbody tr th {\n",
       "        vertical-align: top;\n",
       "    }\n",
       "\n",
       "    .dataframe thead th {\n",
       "        text-align: right;\n",
       "    }\n",
       "</style>\n",
       "<table border=\"1\" class=\"dataframe\">\n",
       "  <thead>\n",
       "    <tr style=\"text-align: right;\">\n",
       "      <th></th>\n",
       "      <th>movieId</th>\n",
       "      <th>title</th>\n",
       "      <th>genres</th>\n",
       "    </tr>\n",
       "  </thead>\n",
       "  <tbody>\n",
       "    <tr>\n",
       "      <th>0</th>\n",
       "      <td>1</td>\n",
       "      <td>Toy Story (1995)</td>\n",
       "      <td>Adventure|Animation|Children|Comedy|Fantasy</td>\n",
       "    </tr>\n",
       "    <tr>\n",
       "      <th>1</th>\n",
       "      <td>2</td>\n",
       "      <td>Jumanji (1995)</td>\n",
       "      <td>Adventure|Children|Fantasy</td>\n",
       "    </tr>\n",
       "    <tr>\n",
       "      <th>2</th>\n",
       "      <td>3</td>\n",
       "      <td>Grumpier Old Men (1995)</td>\n",
       "      <td>Comedy|Romance</td>\n",
       "    </tr>\n",
       "    <tr>\n",
       "      <th>3</th>\n",
       "      <td>4</td>\n",
       "      <td>Waiting to Exhale (1995)</td>\n",
       "      <td>Comedy|Drama|Romance</td>\n",
       "    </tr>\n",
       "    <tr>\n",
       "      <th>4</th>\n",
       "      <td>5</td>\n",
       "      <td>Father of the Bride Part II (1995)</td>\n",
       "      <td>Comedy</td>\n",
       "    </tr>\n",
       "  </tbody>\n",
       "</table>\n",
       "</div>"
      ],
      "text/plain": [
       "   movieId                               title  \\\n",
       "0        1                    Toy Story (1995)   \n",
       "1        2                      Jumanji (1995)   \n",
       "2        3             Grumpier Old Men (1995)   \n",
       "3        4            Waiting to Exhale (1995)   \n",
       "4        5  Father of the Bride Part II (1995)   \n",
       "\n",
       "                                        genres  \n",
       "0  Adventure|Animation|Children|Comedy|Fantasy  \n",
       "1                   Adventure|Children|Fantasy  \n",
       "2                               Comedy|Romance  \n",
       "3                         Comedy|Drama|Romance  \n",
       "4                                       Comedy  "
      ]
     },
     "execution_count": 19,
     "metadata": {},
     "output_type": "execute_result"
    }
   ],
   "source": [
    "df2.head()"
   ]
  },
  {
   "cell_type": "markdown",
   "id": "14915afb",
   "metadata": {},
   "source": [
    "## Initializing the similarity column with 0 for all the movies"
   ]
  },
  {
   "cell_type": "code",
   "execution_count": 20,
   "id": "f0e93780",
   "metadata": {},
   "outputs": [],
   "source": [
    "df2['Similarity'] = 0.0"
   ]
  },
  {
   "cell_type": "code",
   "execution_count": 21,
   "id": "e2808c12",
   "metadata": {},
   "outputs": [
    {
     "data": {
      "text/html": [
       "<div>\n",
       "<style scoped>\n",
       "    .dataframe tbody tr th:only-of-type {\n",
       "        vertical-align: middle;\n",
       "    }\n",
       "\n",
       "    .dataframe tbody tr th {\n",
       "        vertical-align: top;\n",
       "    }\n",
       "\n",
       "    .dataframe thead th {\n",
       "        text-align: right;\n",
       "    }\n",
       "</style>\n",
       "<table border=\"1\" class=\"dataframe\">\n",
       "  <thead>\n",
       "    <tr style=\"text-align: right;\">\n",
       "      <th></th>\n",
       "      <th>movieId</th>\n",
       "      <th>title</th>\n",
       "      <th>genres</th>\n",
       "      <th>Similarity</th>\n",
       "    </tr>\n",
       "  </thead>\n",
       "  <tbody>\n",
       "    <tr>\n",
       "      <th>0</th>\n",
       "      <td>1</td>\n",
       "      <td>Toy Story (1995)</td>\n",
       "      <td>Adventure|Animation|Children|Comedy|Fantasy</td>\n",
       "      <td>0.0</td>\n",
       "    </tr>\n",
       "    <tr>\n",
       "      <th>1</th>\n",
       "      <td>2</td>\n",
       "      <td>Jumanji (1995)</td>\n",
       "      <td>Adventure|Children|Fantasy</td>\n",
       "      <td>0.0</td>\n",
       "    </tr>\n",
       "    <tr>\n",
       "      <th>2</th>\n",
       "      <td>3</td>\n",
       "      <td>Grumpier Old Men (1995)</td>\n",
       "      <td>Comedy|Romance</td>\n",
       "      <td>0.0</td>\n",
       "    </tr>\n",
       "    <tr>\n",
       "      <th>3</th>\n",
       "      <td>4</td>\n",
       "      <td>Waiting to Exhale (1995)</td>\n",
       "      <td>Comedy|Drama|Romance</td>\n",
       "      <td>0.0</td>\n",
       "    </tr>\n",
       "    <tr>\n",
       "      <th>4</th>\n",
       "      <td>5</td>\n",
       "      <td>Father of the Bride Part II (1995)</td>\n",
       "      <td>Comedy</td>\n",
       "      <td>0.0</td>\n",
       "    </tr>\n",
       "  </tbody>\n",
       "</table>\n",
       "</div>"
      ],
      "text/plain": [
       "   movieId                               title  \\\n",
       "0        1                    Toy Story (1995)   \n",
       "1        2                      Jumanji (1995)   \n",
       "2        3             Grumpier Old Men (1995)   \n",
       "3        4            Waiting to Exhale (1995)   \n",
       "4        5  Father of the Bride Part II (1995)   \n",
       "\n",
       "                                        genres  Similarity  \n",
       "0  Adventure|Animation|Children|Comedy|Fantasy         0.0  \n",
       "1                   Adventure|Children|Fantasy         0.0  \n",
       "2                               Comedy|Romance         0.0  \n",
       "3                         Comedy|Drama|Romance         0.0  \n",
       "4                                       Comedy         0.0  "
      ]
     },
     "execution_count": 21,
     "metadata": {},
     "output_type": "execute_result"
    }
   ],
   "source": [
    "df2.head()"
   ]
  },
  {
   "cell_type": "code",
   "execution_count": null,
   "id": "f6ebae2d",
   "metadata": {},
   "outputs": [],
   "source": []
  },
  {
   "cell_type": "markdown",
   "id": "7b3b8850",
   "metadata": {},
   "source": [
    "## Defining cosine similarity function for obtaining the most similar movies to recommend to the user"
   ]
  },
  {
   "cell_type": "code",
   "execution_count": 22,
   "id": "53185100",
   "metadata": {},
   "outputs": [],
   "source": [
    "def cosine_similarity(a,b):\n",
    "    a = a.split('|')\n",
    "    li = list(set(a + b))\n",
    "    a1 = []\n",
    "    b1 = []\n",
    "    for i in li:\n",
    "        a1.append(a.count(i))\n",
    "        b1.append(b.count(i))\n",
    "    \n",
    "    num = 0\n",
    "    d1 = 0\n",
    "    d2 = 0\n",
    "    for j in range(len(a1)):\n",
    "        num += a1[j] * b1[j]\n",
    "        d1 += a1[j] ** 2\n",
    "        d2 += b1[j] ** 2\n",
    "    d1 = d1 ** 0.5\n",
    "    d2 = d2 ** 0.5\n",
    "    return num/(d1*d2)"
   ]
  },
  {
   "cell_type": "code",
   "execution_count": 37,
   "id": "df1a0140",
   "metadata": {},
   "outputs": [],
   "source": [
    "for z in range(df2.shape[0]):\n",
    "    if df2['movieId'][z] not in user1_movies:\n",
    "        df2.at[z,'Similarity'] = cosine_similarity(df2['genres'][z],top_genres)"
   ]
  },
  {
   "cell_type": "code",
   "execution_count": null,
   "id": "e5c62955",
   "metadata": {},
   "outputs": [],
   "source": []
  },
  {
   "cell_type": "markdown",
   "id": "c1f32a53",
   "metadata": {},
   "source": [
    "## Sorting the dataframe by Similarity in descending order and recommending top 10 movies which are most similar"
   ]
  },
  {
   "cell_type": "code",
   "execution_count": 38,
   "id": "4ec4599f",
   "metadata": {},
   "outputs": [
    {
     "data": {
      "text/html": [
       "<div>\n",
       "<style scoped>\n",
       "    .dataframe tbody tr th:only-of-type {\n",
       "        vertical-align: middle;\n",
       "    }\n",
       "\n",
       "    .dataframe tbody tr th {\n",
       "        vertical-align: top;\n",
       "    }\n",
       "\n",
       "    .dataframe thead th {\n",
       "        text-align: right;\n",
       "    }\n",
       "</style>\n",
       "<table border=\"1\" class=\"dataframe\">\n",
       "  <thead>\n",
       "    <tr style=\"text-align: right;\">\n",
       "      <th></th>\n",
       "      <th>movieId</th>\n",
       "      <th>title</th>\n",
       "      <th>genres</th>\n",
       "      <th>Similarity</th>\n",
       "    </tr>\n",
       "  </thead>\n",
       "  <tbody>\n",
       "    <tr>\n",
       "      <th>8233</th>\n",
       "      <td>71211</td>\n",
       "      <td>Informant!, The (2009)</td>\n",
       "      <td>Comedy|Crime|Drama|Thriller</td>\n",
       "      <td>1.000000</td>\n",
       "    </tr>\n",
       "    <tr>\n",
       "      <th>7972</th>\n",
       "      <td>65181</td>\n",
       "      <td>Nobel Son (2007)</td>\n",
       "      <td>Comedy|Crime|Drama|Thriller</td>\n",
       "      <td>1.000000</td>\n",
       "    </tr>\n",
       "    <tr>\n",
       "      <th>4771</th>\n",
       "      <td>6486</td>\n",
       "      <td>Hard Word, The (2002)</td>\n",
       "      <td>Comedy|Crime|Drama|Thriller</td>\n",
       "      <td>1.000000</td>\n",
       "    </tr>\n",
       "    <tr>\n",
       "      <th>841</th>\n",
       "      <td>1034</td>\n",
       "      <td>Freeway (1996)</td>\n",
       "      <td>Comedy|Crime|Drama|Thriller</td>\n",
       "      <td>1.000000</td>\n",
       "    </tr>\n",
       "    <tr>\n",
       "      <th>6897</th>\n",
       "      <td>42900</td>\n",
       "      <td>Cul-de-sac (1966)</td>\n",
       "      <td>Comedy|Crime|Drama|Thriller</td>\n",
       "      <td>1.000000</td>\n",
       "    </tr>\n",
       "    <tr>\n",
       "      <th>8474</th>\n",
       "      <td>75813</td>\n",
       "      <td>Leaves of Grass (2009)</td>\n",
       "      <td>Comedy|Crime|Drama|Thriller</td>\n",
       "      <td>1.000000</td>\n",
       "    </tr>\n",
       "    <tr>\n",
       "      <th>1164</th>\n",
       "      <td>1432</td>\n",
       "      <td>Metro (1997)</td>\n",
       "      <td>Action|Comedy|Crime|Drama|Thriller</td>\n",
       "      <td>0.894427</td>\n",
       "    </tr>\n",
       "    <tr>\n",
       "      <th>3068</th>\n",
       "      <td>3893</td>\n",
       "      <td>Nurse Betty (2000)</td>\n",
       "      <td>Comedy|Crime|Drama|Romance|Thriller</td>\n",
       "      <td>0.894427</td>\n",
       "    </tr>\n",
       "    <tr>\n",
       "      <th>6348</th>\n",
       "      <td>27674</td>\n",
       "      <td>11:14 (2003)</td>\n",
       "      <td>Comedy|Crime|Drama|Mystery|Thriller</td>\n",
       "      <td>0.894427</td>\n",
       "    </tr>\n",
       "    <tr>\n",
       "      <th>3911</th>\n",
       "      <td>5027</td>\n",
       "      <td>Another 48 Hrs. (1990)</td>\n",
       "      <td>Action|Comedy|Crime|Drama|Thriller</td>\n",
       "      <td>0.894427</td>\n",
       "    </tr>\n",
       "  </tbody>\n",
       "</table>\n",
       "</div>"
      ],
      "text/plain": [
       "      movieId                   title                               genres  \\\n",
       "8233    71211  Informant!, The (2009)          Comedy|Crime|Drama|Thriller   \n",
       "7972    65181        Nobel Son (2007)          Comedy|Crime|Drama|Thriller   \n",
       "4771     6486   Hard Word, The (2002)          Comedy|Crime|Drama|Thriller   \n",
       "841      1034          Freeway (1996)          Comedy|Crime|Drama|Thriller   \n",
       "6897    42900       Cul-de-sac (1966)          Comedy|Crime|Drama|Thriller   \n",
       "8474    75813  Leaves of Grass (2009)          Comedy|Crime|Drama|Thriller   \n",
       "1164     1432            Metro (1997)   Action|Comedy|Crime|Drama|Thriller   \n",
       "3068     3893      Nurse Betty (2000)  Comedy|Crime|Drama|Romance|Thriller   \n",
       "6348    27674            11:14 (2003)  Comedy|Crime|Drama|Mystery|Thriller   \n",
       "3911     5027  Another 48 Hrs. (1990)   Action|Comedy|Crime|Drama|Thriller   \n",
       "\n",
       "      Similarity  \n",
       "8233    1.000000  \n",
       "7972    1.000000  \n",
       "4771    1.000000  \n",
       "841     1.000000  \n",
       "6897    1.000000  \n",
       "8474    1.000000  \n",
       "1164    0.894427  \n",
       "3068    0.894427  \n",
       "6348    0.894427  \n",
       "3911    0.894427  "
      ]
     },
     "execution_count": 38,
     "metadata": {},
     "output_type": "execute_result"
    }
   ],
   "source": [
    "sorteddf = df2.sort_values(by = 'Similarity',ascending=False)\n",
    "sorteddf[:10]"
   ]
  },
  {
   "cell_type": "code",
   "execution_count": null,
   "id": "9e3e824d",
   "metadata": {},
   "outputs": [],
   "source": []
  },
  {
   "cell_type": "markdown",
   "id": "6fcea751",
   "metadata": {},
   "source": [
    "# Results: Final Recommendation"
   ]
  },
  {
   "cell_type": "code",
   "execution_count": 49,
   "id": "454a8211",
   "metadata": {},
   "outputs": [
    {
     "name": "stdout",
     "output_type": "stream",
     "text": [
      "\u001b[1mRecommended movies:\u001b[0m\n",
      "\n",
      "\u001b[1m1.  Casino (1995)\u001b[0m\n",
      "\u001b[1m2.  Lord of the Rings: The Fellowship of the Ring, The (2001)\u001b[0m\n",
      "\u001b[1m3.  Ocean's Eleven (2001)\u001b[0m\n",
      "\u001b[1m4.  Shrek (2001)\u001b[0m\n",
      "\u001b[1m5.  Scarface (1983)\u001b[0m\n",
      "\u001b[1m6.  Beverly Hills Cop (1984)\u001b[0m\n",
      "\u001b[1m7.  Thirteen Days (2000)\u001b[0m\n",
      "\u001b[1m8.  O Brother, Where Art Thou? (2000)\u001b[0m\n",
      "\u001b[1m9.  Snatch (2000)\u001b[0m\n",
      "\u001b[1m10.  Gladiator (2000)\u001b[0m\n"
     ]
    }
   ],
   "source": [
    "print('\\033[1m' + 'Recommended movies:' + '\\033[0m' + \"\\n\")\n",
    "\n",
    "for i in range(10):\n",
    "    print('\\033[1m' + f'{i+1}.  ' + df['title'][i]  + '\\033[0m')"
   ]
  },
  {
   "cell_type": "code",
   "execution_count": null,
   "id": "4589f2bd",
   "metadata": {},
   "outputs": [],
   "source": []
  }
 ],
 "metadata": {
  "kernelspec": {
   "display_name": "Python 3",
   "language": "python",
   "name": "python3"
  },
  "language_info": {
   "codemirror_mode": {
    "name": "ipython",
    "version": 3
   },
   "file_extension": ".py",
   "mimetype": "text/x-python",
   "name": "python",
   "nbconvert_exporter": "python",
   "pygments_lexer": "ipython3",
   "version": "3.8.8"
  }
 },
 "nbformat": 4,
 "nbformat_minor": 5
}
