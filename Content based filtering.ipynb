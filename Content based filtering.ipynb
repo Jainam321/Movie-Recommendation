{
 "cells": [
  {
   "cell_type": "markdown",
   "id": "cf784133",
   "metadata": {},
   "source": [
    "# Importing Libraries and reading the dataset"
   ]
  },
  {
   "cell_type": "code",
   "execution_count": 1,
   "id": "c529da90",
   "metadata": {},
   "outputs": [],
   "source": [
    "import pandas as pd"
   ]
  },
  {
   "cell_type": "markdown",
   "id": "bfc7d88a",
   "metadata": {},
   "source": [
    "## 1. MovieLens dataset"
   ]
  },
  {
   "cell_type": "code",
   "execution_count": 2,
   "id": "3b3c1063",
   "metadata": {},
   "outputs": [
    {
     "data": {
      "text/html": [
       "<div>\n",
       "<style scoped>\n",
       "    .dataframe tbody tr th:only-of-type {\n",
       "        vertical-align: middle;\n",
       "    }\n",
       "\n",
       "    .dataframe tbody tr th {\n",
       "        vertical-align: top;\n",
       "    }\n",
       "\n",
       "    .dataframe thead th {\n",
       "        text-align: right;\n",
       "    }\n",
       "</style>\n",
       "<table border=\"1\" class=\"dataframe\">\n",
       "  <thead>\n",
       "    <tr style=\"text-align: right;\">\n",
       "      <th></th>\n",
       "      <th>userId</th>\n",
       "      <th>movieId</th>\n",
       "      <th>rating</th>\n",
       "      <th>title</th>\n",
       "      <th>genres</th>\n",
       "    </tr>\n",
       "  </thead>\n",
       "  <tbody>\n",
       "    <tr>\n",
       "      <th>0</th>\n",
       "      <td>1</td>\n",
       "      <td>16</td>\n",
       "      <td>4.0</td>\n",
       "      <td>Casino (1995)</td>\n",
       "      <td>Crime|Drama</td>\n",
       "    </tr>\n",
       "    <tr>\n",
       "      <th>1</th>\n",
       "      <td>1</td>\n",
       "      <td>4993</td>\n",
       "      <td>4.5</td>\n",
       "      <td>Lord of the Rings: The Fellowship of the Ring,...</td>\n",
       "      <td>Adventure|Fantasy</td>\n",
       "    </tr>\n",
       "    <tr>\n",
       "      <th>2</th>\n",
       "      <td>1</td>\n",
       "      <td>4963</td>\n",
       "      <td>3.5</td>\n",
       "      <td>Ocean's Eleven (2001)</td>\n",
       "      <td>Crime|Thriller</td>\n",
       "    </tr>\n",
       "    <tr>\n",
       "      <th>3</th>\n",
       "      <td>1</td>\n",
       "      <td>4306</td>\n",
       "      <td>4.0</td>\n",
       "      <td>Shrek (2001)</td>\n",
       "      <td>Adventure|Animation|Children|Comedy|Fantasy|Ro...</td>\n",
       "    </tr>\n",
       "    <tr>\n",
       "      <th>4</th>\n",
       "      <td>1</td>\n",
       "      <td>4262</td>\n",
       "      <td>5.0</td>\n",
       "      <td>Scarface (1983)</td>\n",
       "      <td>Action|Crime|Drama</td>\n",
       "    </tr>\n",
       "  </tbody>\n",
       "</table>\n",
       "</div>"
      ],
      "text/plain": [
       "   userId  movieId  rating                                              title  \\\n",
       "0       1       16     4.0                                      Casino (1995)   \n",
       "1       1     4993     4.5  Lord of the Rings: The Fellowship of the Ring,...   \n",
       "2       1     4963     3.5                              Ocean's Eleven (2001)   \n",
       "3       1     4306     4.0                                       Shrek (2001)   \n",
       "4       1     4262     5.0                                    Scarface (1983)   \n",
       "\n",
       "                                              genres  \n",
       "0                                        Crime|Drama  \n",
       "1                                  Adventure|Fantasy  \n",
       "2                                     Crime|Thriller  \n",
       "3  Adventure|Animation|Children|Comedy|Fantasy|Ro...  \n",
       "4                                 Action|Crime|Drama  "
      ]
     },
     "execution_count": 2,
     "metadata": {},
     "output_type": "execute_result"
    }
   ],
   "source": [
    "df = pd.read_csv('merged_data.csv')\n",
    "df.head()"
   ]
  },
  {
   "cell_type": "markdown",
   "id": "067484f0",
   "metadata": {},
   "source": [
    "## 2. Movies dataset"
   ]
  },
  {
   "cell_type": "code",
   "execution_count": 3,
   "id": "962a8d66",
   "metadata": {},
   "outputs": [
    {
     "data": {
      "text/html": [
       "<div>\n",
       "<style scoped>\n",
       "    .dataframe tbody tr th:only-of-type {\n",
       "        vertical-align: middle;\n",
       "    }\n",
       "\n",
       "    .dataframe tbody tr th {\n",
       "        vertical-align: top;\n",
       "    }\n",
       "\n",
       "    .dataframe thead th {\n",
       "        text-align: right;\n",
       "    }\n",
       "</style>\n",
       "<table border=\"1\" class=\"dataframe\">\n",
       "  <thead>\n",
       "    <tr style=\"text-align: right;\">\n",
       "      <th></th>\n",
       "      <th>movieId</th>\n",
       "      <th>title</th>\n",
       "      <th>genres</th>\n",
       "    </tr>\n",
       "  </thead>\n",
       "  <tbody>\n",
       "    <tr>\n",
       "      <th>0</th>\n",
       "      <td>1</td>\n",
       "      <td>Toy Story (1995)</td>\n",
       "      <td>Adventure|Animation|Children|Comedy|Fantasy</td>\n",
       "    </tr>\n",
       "    <tr>\n",
       "      <th>1</th>\n",
       "      <td>2</td>\n",
       "      <td>Jumanji (1995)</td>\n",
       "      <td>Adventure|Children|Fantasy</td>\n",
       "    </tr>\n",
       "    <tr>\n",
       "      <th>2</th>\n",
       "      <td>3</td>\n",
       "      <td>Grumpier Old Men (1995)</td>\n",
       "      <td>Comedy|Romance</td>\n",
       "    </tr>\n",
       "    <tr>\n",
       "      <th>3</th>\n",
       "      <td>4</td>\n",
       "      <td>Waiting to Exhale (1995)</td>\n",
       "      <td>Comedy|Drama|Romance</td>\n",
       "    </tr>\n",
       "    <tr>\n",
       "      <th>4</th>\n",
       "      <td>5</td>\n",
       "      <td>Father of the Bride Part II (1995)</td>\n",
       "      <td>Comedy</td>\n",
       "    </tr>\n",
       "  </tbody>\n",
       "</table>\n",
       "</div>"
      ],
      "text/plain": [
       "   movieId                               title  \\\n",
       "0        1                    Toy Story (1995)   \n",
       "1        2                      Jumanji (1995)   \n",
       "2        3             Grumpier Old Men (1995)   \n",
       "3        4            Waiting to Exhale (1995)   \n",
       "4        5  Father of the Bride Part II (1995)   \n",
       "\n",
       "                                        genres  \n",
       "0  Adventure|Animation|Children|Comedy|Fantasy  \n",
       "1                   Adventure|Children|Fantasy  \n",
       "2                               Comedy|Romance  \n",
       "3                         Comedy|Drama|Romance  \n",
       "4                                       Comedy  "
      ]
     },
     "execution_count": 3,
     "metadata": {},
     "output_type": "execute_result"
    }
   ],
   "source": [
    "df2 = pd.read_csv('movies.csv')\n",
    "df2.head()"
   ]
  },
  {
   "cell_type": "code",
   "execution_count": null,
   "id": "3855b7ac",
   "metadata": {},
   "outputs": [],
   "source": []
  },
  {
   "cell_type": "markdown",
   "id": "022d6402",
   "metadata": {},
   "source": [
    "# Displaying the details about the dataframe"
   ]
  },
  {
   "cell_type": "markdown",
   "id": "fcd65139",
   "metadata": {},
   "source": [
    "## 1. MovieLens dataset"
   ]
  },
  {
   "cell_type": "code",
   "execution_count": 4,
   "id": "fac6f829",
   "metadata": {},
   "outputs": [
    {
     "data": {
      "text/plain": [
       "(105339, 5)"
      ]
     },
     "execution_count": 4,
     "metadata": {},
     "output_type": "execute_result"
    }
   ],
   "source": [
    "df.shape"
   ]
  },
  {
   "cell_type": "code",
   "execution_count": 5,
   "id": "80843b5d",
   "metadata": {},
   "outputs": [
    {
     "name": "stdout",
     "output_type": "stream",
     "text": [
      "<class 'pandas.core.frame.DataFrame'>\n",
      "RangeIndex: 105339 entries, 0 to 105338\n",
      "Data columns (total 5 columns):\n",
      " #   Column   Non-Null Count   Dtype  \n",
      "---  ------   --------------   -----  \n",
      " 0   userId   105339 non-null  int64  \n",
      " 1   movieId  105339 non-null  int64  \n",
      " 2   rating   105339 non-null  float64\n",
      " 3   title    105339 non-null  object \n",
      " 4   genres   105339 non-null  object \n",
      "dtypes: float64(1), int64(2), object(2)\n",
      "memory usage: 4.0+ MB\n"
     ]
    }
   ],
   "source": [
    "df.info()"
   ]
  },
  {
   "cell_type": "markdown",
   "id": "9b7a2494",
   "metadata": {},
   "source": [
    "## 2. Movies dataset"
   ]
  },
  {
   "cell_type": "code",
   "execution_count": 6,
   "id": "ad79dc2f",
   "metadata": {},
   "outputs": [
    {
     "data": {
      "text/plain": [
       "(10329, 3)"
      ]
     },
     "execution_count": 6,
     "metadata": {},
     "output_type": "execute_result"
    }
   ],
   "source": [
    "df2.shape"
   ]
  },
  {
   "cell_type": "code",
   "execution_count": 7,
   "id": "b257ce1c",
   "metadata": {},
   "outputs": [
    {
     "name": "stdout",
     "output_type": "stream",
     "text": [
      "<class 'pandas.core.frame.DataFrame'>\n",
      "RangeIndex: 10329 entries, 0 to 10328\n",
      "Data columns (total 3 columns):\n",
      " #   Column   Non-Null Count  Dtype \n",
      "---  ------   --------------  ----- \n",
      " 0   movieId  10329 non-null  int64 \n",
      " 1   title    10329 non-null  object\n",
      " 2   genres   10329 non-null  object\n",
      "dtypes: int64(1), object(2)\n",
      "memory usage: 242.2+ KB\n"
     ]
    }
   ],
   "source": [
    "df2.info()"
   ]
  },
  {
   "cell_type": "code",
   "execution_count": null,
   "id": "bf117198",
   "metadata": {},
   "outputs": [],
   "source": []
  },
  {
   "cell_type": "markdown",
   "id": "f3f4f5b6",
   "metadata": {},
   "source": [
    "## Total unique users"
   ]
  },
  {
   "cell_type": "code",
   "execution_count": 8,
   "id": "6ed47aa1",
   "metadata": {},
   "outputs": [
    {
     "name": "stdout",
     "output_type": "stream",
     "text": [
      "Total unique users:  668\n"
     ]
    }
   ],
   "source": [
    "print(\"Total unique users: \",len(df['userId'].unique()))"
   ]
  },
  {
   "cell_type": "markdown",
   "id": "94d84b18",
   "metadata": {},
   "source": [
    "## Total unique movies"
   ]
  },
  {
   "cell_type": "code",
   "execution_count": 9,
   "id": "03fa816a",
   "metadata": {},
   "outputs": [
    {
     "name": "stdout",
     "output_type": "stream",
     "text": [
      "Total unique users:  10325\n"
     ]
    }
   ],
   "source": [
    "print(\"Total unique users: \",len(df['movieId'].unique()))"
   ]
  },
  {
   "cell_type": "markdown",
   "id": "1fe3583c",
   "metadata": {},
   "source": [
    "## Total unique genres"
   ]
  },
  {
   "cell_type": "code",
   "execution_count": 10,
   "id": "51e61c2b",
   "metadata": {},
   "outputs": [],
   "source": [
    "genres = []\n",
    "for genre in df.genres:\n",
    "    x = genre.split('|')\n",
    "    for i in x:\n",
    "        if(i not in genres):\n",
    "            genres.append(str(i))"
   ]
  },
  {
   "cell_type": "code",
   "execution_count": 11,
   "id": "4e0a9cdc",
   "metadata": {},
   "outputs": [
    {
     "name": "stdout",
     "output_type": "stream",
     "text": [
      "All unique genres: \n",
      "\n",
      "['Crime', 'Drama', 'Adventure', 'Fantasy', 'Thriller', 'Animation', 'Children', 'Comedy', 'Romance', 'Action', 'War', 'Horror', 'Mystery', 'Sci-Fi', 'IMAX', 'Documentary', 'Film-Noir', 'Western', 'Musical', '(no genres listed)']\n"
     ]
    }
   ],
   "source": [
    "print(\"All unique genres: \\n\")\n",
    "print(genres)"
   ]
  },
  {
   "cell_type": "code",
   "execution_count": 12,
   "id": "c99187fe",
   "metadata": {},
   "outputs": [
    {
     "name": "stdout",
     "output_type": "stream",
     "text": [
      "Total unique genres:  20\n"
     ]
    }
   ],
   "source": [
    "print(\"Total unique genres: \",len(genres))"
   ]
  },
  {
   "cell_type": "code",
   "execution_count": null,
   "id": "060852a4",
   "metadata": {},
   "outputs": [],
   "source": []
  },
  {
   "cell_type": "markdown",
   "id": "ba9d3877",
   "metadata": {},
   "source": [
    "# Content based filering"
   ]
  },
  {
   "cell_type": "markdown",
   "id": "5ac3e980",
   "metadata": {},
   "source": [
    "## Choosing random user for recommendation"
   ]
  },
  {
   "cell_type": "code",
   "execution_count": 13,
   "id": "8cdd2404",
   "metadata": {},
   "outputs": [
    {
     "name": "stdout",
     "output_type": "stream",
     "text": [
      "User(User ID) chosen for recommendation:  85\n"
     ]
    }
   ],
   "source": [
    "import random\n",
    "user = random.randint(1,668)\n",
    "print(\"User(User ID) chosen for recommendation: \",user)"
   ]
  },
  {
   "cell_type": "markdown",
   "id": "c86e8f2f",
   "metadata": {},
   "source": [
    "## Getting details about user- his seen movies and highest rated movie genres"
   ]
  },
  {
   "cell_type": "code",
   "execution_count": 14,
   "id": "f5cf9d59",
   "metadata": {
    "scrolled": false
   },
   "outputs": [
    {
     "name": "stdout",
     "output_type": "stream",
     "text": [
      "Total movies seen by user: 51\n"
     ]
    }
   ],
   "source": [
    "user1_movies = list(df['movieId'][df['userId'] == user])\n",
    "print(\"Total movies seen by user: {}\".format(len(user1_movies)))"
   ]
  },
  {
   "cell_type": "code",
   "execution_count": 15,
   "id": "9544994c",
   "metadata": {},
   "outputs": [
    {
     "name": "stdout",
     "output_type": "stream",
     "text": [
      "Maximum rating given by user:  5.0\n"
     ]
    }
   ],
   "source": [
    "max_rating = df['rating'][df['userId'] == user].max()\n",
    "print(\"Maximum rating given by user: \", max_rating)"
   ]
  },
  {
   "cell_type": "code",
   "execution_count": null,
   "id": "09910f6f",
   "metadata": {},
   "outputs": [],
   "source": []
  },
  {
   "cell_type": "markdown",
   "id": "60dd077e",
   "metadata": {},
   "source": [
    "## Getting top genres of the user's highest rated movies"
   ]
  },
  {
   "cell_type": "code",
   "execution_count": 16,
   "id": "50bd79d0",
   "metadata": {},
   "outputs": [
    {
     "name": "stdout",
     "output_type": "stream",
     "text": [
      "Genres of all highest rated movies by the user:\n",
      " ['Drama', 'Fantasy', 'Adventure', 'Crime', 'Action', 'Thriller', 'Comedy', 'War', 'Romance', 'Sci-Fi', 'Western']\n"
     ]
    }
   ],
   "source": [
    "l = list(df['genres'][(df['userId'] == user) & (df['rating'] == max_rating)])\n",
    "genres = {}\n",
    "for i in l:\n",
    "    split_list = i.split('|')\n",
    "    for j in split_list:\n",
    "        if j not in genres:\n",
    "            genres[j] = 1\n",
    "        else:\n",
    "            genres[j] += 1\n",
    "genres = dict(sorted(genres.items(), key=lambda item: item[1]))\n",
    "genres_list = list(genres.keys())[::-1]\n",
    "print(\"Genres of all highest rated movies by the user:\\n\",genres_list)"
   ]
  },
  {
   "cell_type": "code",
   "execution_count": 17,
   "id": "3bc6cdc9",
   "metadata": {},
   "outputs": [
    {
     "name": "stdout",
     "output_type": "stream",
     "text": [
      "Genres with their count:\n",
      "{'Western': 1, 'Sci-Fi': 1, 'Romance': 1, 'War': 1, 'Comedy': 2, 'Thriller': 3, 'Action': 4, 'Crime': 4, 'Adventure': 4, 'Fantasy': 4, 'Drama': 8}\n"
     ]
    }
   ],
   "source": [
    "print(\"Genres with their count:\")\n",
    "print(genres)"
   ]
  },
  {
   "cell_type": "code",
   "execution_count": 18,
   "id": "b9f0fdb4",
   "metadata": {},
   "outputs": [
    {
     "name": "stdout",
     "output_type": "stream",
     "text": [
      "Top 4 Genres: ['Drama', 'Fantasy', 'Adventure', 'Crime']\n"
     ]
    }
   ],
   "source": [
    "top_genres = genres_list[:min(4,len(genres_list))]\n",
    "print(\"Top {} Genres: {}\".format(len(top_genres),top_genres))"
   ]
  },
  {
   "cell_type": "code",
   "execution_count": null,
   "id": "0909a428",
   "metadata": {},
   "outputs": [],
   "source": []
  },
  {
   "cell_type": "markdown",
   "id": "719e99bb",
   "metadata": {},
   "source": [
    "# Calculating similarity of all the movies with respect to the top genres obtained "
   ]
  },
  {
   "cell_type": "markdown",
   "id": "7413a1b2",
   "metadata": {},
   "source": [
    "## Movies dataframe"
   ]
  },
  {
   "cell_type": "code",
   "execution_count": 19,
   "id": "efa76d2b",
   "metadata": {},
   "outputs": [
    {
     "data": {
      "text/html": [
       "<div>\n",
       "<style scoped>\n",
       "    .dataframe tbody tr th:only-of-type {\n",
       "        vertical-align: middle;\n",
       "    }\n",
       "\n",
       "    .dataframe tbody tr th {\n",
       "        vertical-align: top;\n",
       "    }\n",
       "\n",
       "    .dataframe thead th {\n",
       "        text-align: right;\n",
       "    }\n",
       "</style>\n",
       "<table border=\"1\" class=\"dataframe\">\n",
       "  <thead>\n",
       "    <tr style=\"text-align: right;\">\n",
       "      <th></th>\n",
       "      <th>movieId</th>\n",
       "      <th>title</th>\n",
       "      <th>genres</th>\n",
       "    </tr>\n",
       "  </thead>\n",
       "  <tbody>\n",
       "    <tr>\n",
       "      <th>0</th>\n",
       "      <td>1</td>\n",
       "      <td>Toy Story (1995)</td>\n",
       "      <td>Adventure|Animation|Children|Comedy|Fantasy</td>\n",
       "    </tr>\n",
       "    <tr>\n",
       "      <th>1</th>\n",
       "      <td>2</td>\n",
       "      <td>Jumanji (1995)</td>\n",
       "      <td>Adventure|Children|Fantasy</td>\n",
       "    </tr>\n",
       "    <tr>\n",
       "      <th>2</th>\n",
       "      <td>3</td>\n",
       "      <td>Grumpier Old Men (1995)</td>\n",
       "      <td>Comedy|Romance</td>\n",
       "    </tr>\n",
       "    <tr>\n",
       "      <th>3</th>\n",
       "      <td>4</td>\n",
       "      <td>Waiting to Exhale (1995)</td>\n",
       "      <td>Comedy|Drama|Romance</td>\n",
       "    </tr>\n",
       "    <tr>\n",
       "      <th>4</th>\n",
       "      <td>5</td>\n",
       "      <td>Father of the Bride Part II (1995)</td>\n",
       "      <td>Comedy</td>\n",
       "    </tr>\n",
       "  </tbody>\n",
       "</table>\n",
       "</div>"
      ],
      "text/plain": [
       "   movieId                               title  \\\n",
       "0        1                    Toy Story (1995)   \n",
       "1        2                      Jumanji (1995)   \n",
       "2        3             Grumpier Old Men (1995)   \n",
       "3        4            Waiting to Exhale (1995)   \n",
       "4        5  Father of the Bride Part II (1995)   \n",
       "\n",
       "                                        genres  \n",
       "0  Adventure|Animation|Children|Comedy|Fantasy  \n",
       "1                   Adventure|Children|Fantasy  \n",
       "2                               Comedy|Romance  \n",
       "3                         Comedy|Drama|Romance  \n",
       "4                                       Comedy  "
      ]
     },
     "execution_count": 19,
     "metadata": {},
     "output_type": "execute_result"
    }
   ],
   "source": [
    "df2.head()"
   ]
  },
  {
   "cell_type": "markdown",
   "id": "14915afb",
   "metadata": {},
   "source": [
    "## Initializing the similarity column with 0 for all the movies"
   ]
  },
  {
   "cell_type": "code",
   "execution_count": 20,
   "id": "f0e93780",
   "metadata": {},
   "outputs": [],
   "source": [
    "df2['Similarity'] = 0.0"
   ]
  },
  {
   "cell_type": "code",
   "execution_count": 21,
   "id": "e2808c12",
   "metadata": {},
   "outputs": [
    {
     "data": {
      "text/html": [
       "<div>\n",
       "<style scoped>\n",
       "    .dataframe tbody tr th:only-of-type {\n",
       "        vertical-align: middle;\n",
       "    }\n",
       "\n",
       "    .dataframe tbody tr th {\n",
       "        vertical-align: top;\n",
       "    }\n",
       "\n",
       "    .dataframe thead th {\n",
       "        text-align: right;\n",
       "    }\n",
       "</style>\n",
       "<table border=\"1\" class=\"dataframe\">\n",
       "  <thead>\n",
       "    <tr style=\"text-align: right;\">\n",
       "      <th></th>\n",
       "      <th>movieId</th>\n",
       "      <th>title</th>\n",
       "      <th>genres</th>\n",
       "      <th>Similarity</th>\n",
       "    </tr>\n",
       "  </thead>\n",
       "  <tbody>\n",
       "    <tr>\n",
       "      <th>0</th>\n",
       "      <td>1</td>\n",
       "      <td>Toy Story (1995)</td>\n",
       "      <td>Adventure|Animation|Children|Comedy|Fantasy</td>\n",
       "      <td>0.0</td>\n",
       "    </tr>\n",
       "    <tr>\n",
       "      <th>1</th>\n",
       "      <td>2</td>\n",
       "      <td>Jumanji (1995)</td>\n",
       "      <td>Adventure|Children|Fantasy</td>\n",
       "      <td>0.0</td>\n",
       "    </tr>\n",
       "    <tr>\n",
       "      <th>2</th>\n",
       "      <td>3</td>\n",
       "      <td>Grumpier Old Men (1995)</td>\n",
       "      <td>Comedy|Romance</td>\n",
       "      <td>0.0</td>\n",
       "    </tr>\n",
       "    <tr>\n",
       "      <th>3</th>\n",
       "      <td>4</td>\n",
       "      <td>Waiting to Exhale (1995)</td>\n",
       "      <td>Comedy|Drama|Romance</td>\n",
       "      <td>0.0</td>\n",
       "    </tr>\n",
       "    <tr>\n",
       "      <th>4</th>\n",
       "      <td>5</td>\n",
       "      <td>Father of the Bride Part II (1995)</td>\n",
       "      <td>Comedy</td>\n",
       "      <td>0.0</td>\n",
       "    </tr>\n",
       "  </tbody>\n",
       "</table>\n",
       "</div>"
      ],
      "text/plain": [
       "   movieId                               title  \\\n",
       "0        1                    Toy Story (1995)   \n",
       "1        2                      Jumanji (1995)   \n",
       "2        3             Grumpier Old Men (1995)   \n",
       "3        4            Waiting to Exhale (1995)   \n",
       "4        5  Father of the Bride Part II (1995)   \n",
       "\n",
       "                                        genres  Similarity  \n",
       "0  Adventure|Animation|Children|Comedy|Fantasy         0.0  \n",
       "1                   Adventure|Children|Fantasy         0.0  \n",
       "2                               Comedy|Romance         0.0  \n",
       "3                         Comedy|Drama|Romance         0.0  \n",
       "4                                       Comedy         0.0  "
      ]
     },
     "execution_count": 21,
     "metadata": {},
     "output_type": "execute_result"
    }
   ],
   "source": [
    "df2.head()"
   ]
  },
  {
   "cell_type": "code",
   "execution_count": null,
   "id": "b070ec4c",
   "metadata": {},
   "outputs": [],
   "source": []
  },
  {
   "cell_type": "markdown",
   "id": "7b3b8850",
   "metadata": {},
   "source": [
    "## Defining cosine similarity function for obtaining the most similar movies to recommend to the user"
   ]
  },
  {
   "cell_type": "code",
   "execution_count": 22,
   "id": "53185100",
   "metadata": {},
   "outputs": [],
   "source": [
    "def cosine_similarity(a,b):\n",
    "    a = a.split('|')\n",
    "    li = list(set(a + b))\n",
    "    a1 = []\n",
    "    b1 = []\n",
    "    for i in li:\n",
    "        a1.append(a.count(i))\n",
    "        b1.append(b.count(i))\n",
    "    \n",
    "    num = 0\n",
    "    d1 = 0\n",
    "    d2 = 0\n",
    "    for j in range(len(a1)):\n",
    "        num += a1[j] * b1[j]\n",
    "        d1 += a1[j] ** 2\n",
    "        d2 += b1[j] ** 2\n",
    "    d1 = d1 ** 0.5\n",
    "    d2 = d2 ** 0.5\n",
    "    return num/(d1*d2)"
   ]
  },
  {
   "cell_type": "code",
   "execution_count": 23,
   "id": "df1a0140",
   "metadata": {},
   "outputs": [],
   "source": [
    "for z in range(df2.shape[0]):\n",
    "    if df2['movieId'][z] not in user1_movies:\n",
    "        df2.at[z,'Similarity'] = cosine_similarity(df2['genres'][z],top_genres)"
   ]
  },
  {
   "cell_type": "code",
   "execution_count": null,
   "id": "fd359ddf",
   "metadata": {},
   "outputs": [],
   "source": []
  },
  {
   "cell_type": "markdown",
   "id": "c1f32a53",
   "metadata": {},
   "source": [
    "## Sorting the dataframe by Similarity in descending order and recommending top 10 movies which are most similar"
   ]
  },
  {
   "cell_type": "code",
   "execution_count": 24,
   "id": "4ec4599f",
   "metadata": {},
   "outputs": [
    {
     "data": {
      "text/html": [
       "<div>\n",
       "<style scoped>\n",
       "    .dataframe tbody tr th:only-of-type {\n",
       "        vertical-align: middle;\n",
       "    }\n",
       "\n",
       "    .dataframe tbody tr th {\n",
       "        vertical-align: top;\n",
       "    }\n",
       "\n",
       "    .dataframe thead th {\n",
       "        text-align: right;\n",
       "    }\n",
       "</style>\n",
       "<table border=\"1\" class=\"dataframe\">\n",
       "  <thead>\n",
       "    <tr style=\"text-align: right;\">\n",
       "      <th></th>\n",
       "      <th>movieId</th>\n",
       "      <th>title</th>\n",
       "      <th>genres</th>\n",
       "      <th>Similarity</th>\n",
       "    </tr>\n",
       "  </thead>\n",
       "  <tbody>\n",
       "    <tr>\n",
       "      <th>1703</th>\n",
       "      <td>2147</td>\n",
       "      <td>Clan of the Cave Bear, The (1986)</td>\n",
       "      <td>Adventure|Drama|Fantasy</td>\n",
       "      <td>0.866025</td>\n",
       "    </tr>\n",
       "    <tr>\n",
       "      <th>7719</th>\n",
       "      <td>59387</td>\n",
       "      <td>Fall, The (2006)</td>\n",
       "      <td>Adventure|Drama|Fantasy</td>\n",
       "      <td>0.866025</td>\n",
       "    </tr>\n",
       "    <tr>\n",
       "      <th>8839</th>\n",
       "      <td>83480</td>\n",
       "      <td>Season of the Witch (2011)</td>\n",
       "      <td>Adventure|Drama|Fantasy</td>\n",
       "      <td>0.866025</td>\n",
       "    </tr>\n",
       "    <tr>\n",
       "      <th>2710</th>\n",
       "      <td>3418</td>\n",
       "      <td>Thelma &amp; Louise (1991)</td>\n",
       "      <td>Adventure|Crime|Drama</td>\n",
       "      <td>0.866025</td>\n",
       "    </tr>\n",
       "    <tr>\n",
       "      <th>5616</th>\n",
       "      <td>8341</td>\n",
       "      <td>Oliver Twist (1948)</td>\n",
       "      <td>Adventure|Crime|Drama</td>\n",
       "      <td>0.866025</td>\n",
       "    </tr>\n",
       "    <tr>\n",
       "      <th>7980</th>\n",
       "      <td>65359</td>\n",
       "      <td>Earthsea (Legend of Earthsea) (2004)</td>\n",
       "      <td>Adventure|Drama|Fantasy</td>\n",
       "      <td>0.866025</td>\n",
       "    </tr>\n",
       "    <tr>\n",
       "      <th>9660</th>\n",
       "      <td>102194</td>\n",
       "      <td>Mud (2012)</td>\n",
       "      <td>Adventure|Crime|Drama</td>\n",
       "      <td>0.866025</td>\n",
       "    </tr>\n",
       "    <tr>\n",
       "      <th>6862</th>\n",
       "      <td>41863</td>\n",
       "      <td>Three Burials of Melquiades Estrada, The (2006)</td>\n",
       "      <td>Adventure|Crime|Drama</td>\n",
       "      <td>0.866025</td>\n",
       "    </tr>\n",
       "    <tr>\n",
       "      <th>2342</th>\n",
       "      <td>2931</td>\n",
       "      <td>Time of the Gypsies (Dom za vesanje) (1989)</td>\n",
       "      <td>Comedy|Crime|Drama|Fantasy</td>\n",
       "      <td>0.750000</td>\n",
       "    </tr>\n",
       "    <tr>\n",
       "      <th>1818</th>\n",
       "      <td>2297</td>\n",
       "      <td>What Dreams May Come (1998)</td>\n",
       "      <td>Adventure|Drama|Fantasy|Romance</td>\n",
       "      <td>0.750000</td>\n",
       "    </tr>\n",
       "  </tbody>\n",
       "</table>\n",
       "</div>"
      ],
      "text/plain": [
       "      movieId                                            title  \\\n",
       "1703     2147                Clan of the Cave Bear, The (1986)   \n",
       "7719    59387                                 Fall, The (2006)   \n",
       "8839    83480                       Season of the Witch (2011)   \n",
       "2710     3418                           Thelma & Louise (1991)   \n",
       "5616     8341                              Oliver Twist (1948)   \n",
       "7980    65359             Earthsea (Legend of Earthsea) (2004)   \n",
       "9660   102194                                       Mud (2012)   \n",
       "6862    41863  Three Burials of Melquiades Estrada, The (2006)   \n",
       "2342     2931      Time of the Gypsies (Dom za vesanje) (1989)   \n",
       "1818     2297                      What Dreams May Come (1998)   \n",
       "\n",
       "                               genres  Similarity  \n",
       "1703          Adventure|Drama|Fantasy    0.866025  \n",
       "7719          Adventure|Drama|Fantasy    0.866025  \n",
       "8839          Adventure|Drama|Fantasy    0.866025  \n",
       "2710            Adventure|Crime|Drama    0.866025  \n",
       "5616            Adventure|Crime|Drama    0.866025  \n",
       "7980          Adventure|Drama|Fantasy    0.866025  \n",
       "9660            Adventure|Crime|Drama    0.866025  \n",
       "6862            Adventure|Crime|Drama    0.866025  \n",
       "2342       Comedy|Crime|Drama|Fantasy    0.750000  \n",
       "1818  Adventure|Drama|Fantasy|Romance    0.750000  "
      ]
     },
     "execution_count": 24,
     "metadata": {},
     "output_type": "execute_result"
    }
   ],
   "source": [
    "sorteddf = df2.sort_values(by = 'Similarity',ascending=False)\n",
    "sorteddf[:10]"
   ]
  },
  {
   "cell_type": "markdown",
   "id": "4353c40c",
   "metadata": {},
   "source": [
    "## Resetting the index"
   ]
  },
  {
   "cell_type": "code",
   "execution_count": 25,
   "id": "b2639c0d",
   "metadata": {},
   "outputs": [],
   "source": [
    "sorteddf.reset_index(drop=True, inplace=True)"
   ]
  },
  {
   "cell_type": "code",
   "execution_count": null,
   "id": "24b61d68",
   "metadata": {},
   "outputs": [],
   "source": []
  },
  {
   "cell_type": "markdown",
   "id": "6fcea751",
   "metadata": {},
   "source": [
    "# Results: Final Recommendation"
   ]
  },
  {
   "cell_type": "code",
   "execution_count": 26,
   "id": "454a8211",
   "metadata": {},
   "outputs": [
    {
     "name": "stdout",
     "output_type": "stream",
     "text": [
      "\u001b[1mRecommended movies for user id: 85\u001b[0m\n",
      "\n",
      "\u001b[1m1.  Clan of the Cave Bear, The (1986)\u001b[0m\n",
      "\u001b[1m2.  Fall, The (2006)\u001b[0m\n",
      "\u001b[1m3.  Season of the Witch (2011)\u001b[0m\n",
      "\u001b[1m4.  Thelma & Louise (1991)\u001b[0m\n",
      "\u001b[1m5.  Oliver Twist (1948)\u001b[0m\n",
      "\u001b[1m6.  Earthsea (Legend of Earthsea) (2004)\u001b[0m\n",
      "\u001b[1m7.  Mud (2012)\u001b[0m\n",
      "\u001b[1m8.  Three Burials of Melquiades Estrada, The (2006)\u001b[0m\n",
      "\u001b[1m9.  Time of the Gypsies (Dom za vesanje) (1989)\u001b[0m\n",
      "\u001b[1m10.  What Dreams May Come (1998)\u001b[0m\n"
     ]
    }
   ],
   "source": [
    "print('\\033[1m' + 'Recommended movies for user id: ' + str(user) + '\\033[0m' + \"\\n\")\n",
    "\n",
    "for i in range(10):\n",
    "    print('\\033[1m' + f'{i+1}.  ' + sorteddf['title'][i]  + '\\033[0m')"
   ]
  },
  {
   "cell_type": "code",
   "execution_count": null,
   "id": "88f22261",
   "metadata": {},
   "outputs": [],
   "source": []
  },
  {
   "cell_type": "markdown",
   "id": "9238acca",
   "metadata": {},
   "source": [
    "## Comparing genres of users top rated seen movies and recommend movies"
   ]
  },
  {
   "cell_type": "code",
   "execution_count": 27,
   "id": "4589f2bd",
   "metadata": {},
   "outputs": [
    {
     "name": "stdout",
     "output_type": "stream",
     "text": [
      "User's favourite genres: \n"
     ]
    },
    {
     "data": {
      "text/plain": [
       "['Drama', 'Fantasy', 'Adventure', 'Crime']"
      ]
     },
     "execution_count": 27,
     "metadata": {},
     "output_type": "execute_result"
    }
   ],
   "source": [
    "print(\"User's favourite genres: \")\n",
    "top_genres"
   ]
  },
  {
   "cell_type": "code",
   "execution_count": 28,
   "id": "1ddea282",
   "metadata": {},
   "outputs": [
    {
     "name": "stdout",
     "output_type": "stream",
     "text": [
      "Genres of recommend movies: \n"
     ]
    },
    {
     "data": {
      "text/plain": [
       "['Adventure', 'Drama', 'Fantasy', 'Crime', 'Comedy', 'Romance']"
      ]
     },
     "execution_count": 28,
     "metadata": {},
     "output_type": "execute_result"
    }
   ],
   "source": [
    "rec_genres = []\n",
    "for genre in range(10):\n",
    "    x = sorteddf['genres'][genre].split('|')\n",
    "    for i in x:\n",
    "        if(i not in rec_genres):\n",
    "            rec_genres.append(str(i))\n",
    "            \n",
    "print(\"Genres of recommend movies: \")\n",
    "rec_genres"
   ]
  },
  {
   "cell_type": "code",
   "execution_count": null,
   "id": "705f8557",
   "metadata": {},
   "outputs": [],
   "source": []
  }
 ],
 "metadata": {
  "kernelspec": {
   "display_name": "Python 3",
   "language": "python",
   "name": "python3"
  },
  "language_info": {
   "codemirror_mode": {
    "name": "ipython",
    "version": 3
   },
   "file_extension": ".py",
   "mimetype": "text/x-python",
   "name": "python",
   "nbconvert_exporter": "python",
   "pygments_lexer": "ipython3",
   "version": "3.8.8"
  }
 },
 "nbformat": 4,
 "nbformat_minor": 5
}
